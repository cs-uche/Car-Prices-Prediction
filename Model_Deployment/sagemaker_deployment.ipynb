{
 "cells": [
  {
   "cell_type": "markdown",
   "id": "36b61b2f-0d22-4743-874c-f20b649d8973",
   "metadata": {},
   "source": [
    "# Sagemaker Deployment"
   ]
  },
  {
   "cell_type": "markdown",
   "id": "f5e81e76-7849-41e8-af97-23d30537c0d9",
   "metadata": {
    "tags": []
   },
   "source": [
    "## Using Local Model"
   ]
  },
  {
   "cell_type": "markdown",
   "id": "e01f57e4-4f1a-476a-b3ba-26bb69e63c3d",
   "metadata": {},
   "source": [
    "Before using sagemaker to deploy the model let us test that our model saved locally can be used to make inferences. \n",
    "\n",
    "To simplify this process only the xgboost model will be deployed to a sagemaker endpoint."
   ]
  },
  {
   "cell_type": "code",
   "execution_count": 2,
   "id": "76614cbd-68f5-41c9-ab76-c61f81727108",
   "metadata": {
    "tags": []
   },
   "outputs": [
    {
     "name": "stdout",
     "output_type": "stream",
     "text": [
      "Note: you may need to restart the kernel to use updated packages.\n"
     ]
    }
   ],
   "source": [
    "# %pip install -r requirements.txt --quiet"
   ]
  },
  {
   "cell_type": "code",
   "execution_count": null,
   "id": "8e30fbb5",
   "metadata": {},
   "outputs": [],
   "source": [
    "# %pip install -r pandas numpy scikit-learn xgboost joblib --quiet"
   ]
  },
  {
   "cell_type": "code",
   "execution_count": 3,
   "id": "c807b692-652a-43ce-9a8c-ef2d541bcabe",
   "metadata": {
    "tags": []
   },
   "outputs": [],
   "source": [
    "import joblib\n",
    "import os\n",
    "import pandas as pd"
   ]
  },
  {
   "cell_type": "code",
   "execution_count": 42,
   "id": "0c0da590-0a1e-4e87-b2f3-74a753ffe603",
   "metadata": {
    "tags": []
   },
   "outputs": [
    {
     "data": {
      "text/html": [
       "<div>\n",
       "<style scoped>\n",
       "    .dataframe tbody tr th:only-of-type {\n",
       "        vertical-align: middle;\n",
       "    }\n",
       "\n",
       "    .dataframe tbody tr th {\n",
       "        vertical-align: top;\n",
       "    }\n",
       "\n",
       "    .dataframe thead th {\n",
       "        text-align: right;\n",
       "    }\n",
       "</style>\n",
       "<table border=\"1\" class=\"dataframe\">\n",
       "  <thead>\n",
       "    <tr style=\"text-align: right;\">\n",
       "      <th></th>\n",
       "      <th>ID</th>\n",
       "      <th>Levy</th>\n",
       "      <th>Manufacturer</th>\n",
       "      <th>Model</th>\n",
       "      <th>Prod. year</th>\n",
       "      <th>Category</th>\n",
       "      <th>Leather interior</th>\n",
       "      <th>Fuel type</th>\n",
       "      <th>Engine volume</th>\n",
       "      <th>Mileage</th>\n",
       "      <th>Cylinders</th>\n",
       "      <th>Gear box type</th>\n",
       "      <th>Drive wheels</th>\n",
       "      <th>Doors</th>\n",
       "      <th>Wheel</th>\n",
       "      <th>Color</th>\n",
       "      <th>Airbags</th>\n",
       "      <th>Price</th>\n",
       "    </tr>\n",
       "  </thead>\n",
       "  <tbody>\n",
       "    <tr>\n",
       "      <th>0</th>\n",
       "      <td>44020629</td>\n",
       "      <td>-</td>\n",
       "      <td>VOLKSWAGEN</td>\n",
       "      <td>Golf</td>\n",
       "      <td>2012</td>\n",
       "      <td>Hatchback</td>\n",
       "      <td>No</td>\n",
       "      <td>Diesel</td>\n",
       "      <td>2.0 Turbo</td>\n",
       "      <td>0 km</td>\n",
       "      <td>4</td>\n",
       "      <td>Manual</td>\n",
       "      <td>Front</td>\n",
       "      <td>02-Mar</td>\n",
       "      <td>Left wheel</td>\n",
       "      <td>Grey</td>\n",
       "      <td>10</td>\n",
       "      <td>NaN</td>\n",
       "    </tr>\n",
       "    <tr>\n",
       "      <th>1</th>\n",
       "      <td>45784798</td>\n",
       "      <td>-</td>\n",
       "      <td>HYUNDAI</td>\n",
       "      <td>Sonata</td>\n",
       "      <td>2012</td>\n",
       "      <td>Sedan</td>\n",
       "      <td>Yes</td>\n",
       "      <td>Petrol</td>\n",
       "      <td>2.4</td>\n",
       "      <td>26000 km</td>\n",
       "      <td>4</td>\n",
       "      <td>Tiptronic</td>\n",
       "      <td>Front</td>\n",
       "      <td>04-May</td>\n",
       "      <td>Left wheel</td>\n",
       "      <td>Grey</td>\n",
       "      <td>10</td>\n",
       "      <td>NaN</td>\n",
       "    </tr>\n",
       "  </tbody>\n",
       "</table>\n",
       "</div>"
      ],
      "text/plain": [
       "         ID Levy Manufacturer   Model  Prod. year   Category Leather interior  \\\n",
       "0  44020629    -   VOLKSWAGEN    Golf        2012  Hatchback               No   \n",
       "1  45784798    -      HYUNDAI  Sonata        2012      Sedan              Yes   \n",
       "\n",
       "  Fuel type Engine volume   Mileage  Cylinders Gear box type Drive wheels  \\\n",
       "0    Diesel     2.0 Turbo      0 km          4        Manual        Front   \n",
       "1    Petrol           2.4  26000 km          4     Tiptronic        Front   \n",
       "\n",
       "    Doors       Wheel Color  Airbags  Price  \n",
       "0  02-Mar  Left wheel  Grey       10    NaN  \n",
       "1  04-May  Left wheel  Grey       10    NaN  "
      ]
     },
     "execution_count": 42,
     "metadata": {},
     "output_type": "execute_result"
    }
   ],
   "source": [
    "data_path = os.path.join(\".\", \"data\", \"test.csv\")\n",
    "test_df = pd.read_csv(data_path)\n",
    "test_data = test_df.iloc[:2]\n",
    "test_data"
   ]
  },
  {
   "cell_type": "code",
   "execution_count": 5,
   "id": "364b4117-5538-4408-8cc1-c3bbfdc363b8",
   "metadata": {
    "tags": []
   },
   "outputs": [],
   "source": [
    "rf_path = \"./models/RandomForestRegressor_v20240114.joblib\"\n",
    "xgb_path = \"./models/XGBRegressor_v20240113.joblib\"\n",
    "if os.path.isfile(rf_path):\n",
    "     rf = joblib.load(rf_path)\n",
    "    \n",
    "if os.path.isfile(xgb_path):\n",
    "    xgb = joblib.load(xgb_path)"
   ]
  },
  {
   "cell_type": "markdown",
   "id": "c709f252-af05-4f9d-9beb-0a1cec80ca3e",
   "metadata": {},
   "source": [
    "Taking a look at the pipeline object saved for ransom forest. \n",
    "\n",
    "It has a dictionary strucutre containing a model, date and version. We only want the model to evaluate on."
   ]
  },
  {
   "cell_type": "code",
   "execution_count": 6,
   "id": "a337a491-4747-4014-a50a-78f95b5c77dc",
   "metadata": {
    "tags": []
   },
   "outputs": [
    {
     "data": {
      "text/plain": [
       "{'model': Pipeline(steps=[('columntransformer',\n",
       "                  ColumnTransformer(transformers=[('functiontransformer-1',\n",
       "                                                   FunctionTransformer(func=<function preprocess_levy_and_fillna at 0x7f284559cd30>),\n",
       "                                                   ['Prod. year', 'Levy']),\n",
       "                                                  ('functiontransformer-2',\n",
       "                                                   FunctionTransformer(func=<function extract_numeric_features at 0x7f284559c790>,\n",
       "                                                                       kw_args={'columns_to_extract': ['Mileage',\n",
       "                                                                                                       'Engine '\n",
       "                                                                                                       'volu...\n",
       "                                                                 handle_unknown='ignore',\n",
       "                                                                 sparse_output=False),\n",
       "                                                   ['Leather interior',\n",
       "                                                    'Gear box type',\n",
       "                                                    'Category']),\n",
       "                                                  ('drop', 'drop', [])])),\n",
       "                 ('standardscaler', StandardScaler()),\n",
       "                 ('randomforestregressor',\n",
       "                  RandomForestRegressor(bootstrap=False, max_depth=22,\n",
       "                                        max_features=0.9414935783510276,\n",
       "                                        min_samples_leaf=0.001002134328961941,\n",
       "                                        min_samples_split=0.0023146536832538587,\n",
       "                                        n_estimators=97, random_state=124))]),\n",
       " 'date': '2024-01-14015256',\n",
       " 'version': '20240114'}"
      ]
     },
     "execution_count": 6,
     "metadata": {},
     "output_type": "execute_result"
    }
   ],
   "source": [
    "rf"
   ]
  },
  {
   "cell_type": "code",
   "execution_count": 7,
   "id": "7dfa41ce-8a0e-4e2f-afd9-b0f2b73e3976",
   "metadata": {
    "tags": []
   },
   "outputs": [
    {
     "data": {
      "text/html": [
       "<style>#sk-container-id-1 {color: black;}#sk-container-id-1 pre{padding: 0;}#sk-container-id-1 div.sk-toggleable {background-color: white;}#sk-container-id-1 label.sk-toggleable__label {cursor: pointer;display: block;width: 100%;margin-bottom: 0;padding: 0.3em;box-sizing: border-box;text-align: center;}#sk-container-id-1 label.sk-toggleable__label-arrow:before {content: \"▸\";float: left;margin-right: 0.25em;color: #696969;}#sk-container-id-1 label.sk-toggleable__label-arrow:hover:before {color: black;}#sk-container-id-1 div.sk-estimator:hover label.sk-toggleable__label-arrow:before {color: black;}#sk-container-id-1 div.sk-toggleable__content {max-height: 0;max-width: 0;overflow: hidden;text-align: left;background-color: #f0f8ff;}#sk-container-id-1 div.sk-toggleable__content pre {margin: 0.2em;color: black;border-radius: 0.25em;background-color: #f0f8ff;}#sk-container-id-1 input.sk-toggleable__control:checked~div.sk-toggleable__content {max-height: 200px;max-width: 100%;overflow: auto;}#sk-container-id-1 input.sk-toggleable__control:checked~label.sk-toggleable__label-arrow:before {content: \"▾\";}#sk-container-id-1 div.sk-estimator input.sk-toggleable__control:checked~label.sk-toggleable__label {background-color: #d4ebff;}#sk-container-id-1 div.sk-label input.sk-toggleable__control:checked~label.sk-toggleable__label {background-color: #d4ebff;}#sk-container-id-1 input.sk-hidden--visually {border: 0;clip: rect(1px 1px 1px 1px);clip: rect(1px, 1px, 1px, 1px);height: 1px;margin: -1px;overflow: hidden;padding: 0;position: absolute;width: 1px;}#sk-container-id-1 div.sk-estimator {font-family: monospace;background-color: #f0f8ff;border: 1px dotted black;border-radius: 0.25em;box-sizing: border-box;margin-bottom: 0.5em;}#sk-container-id-1 div.sk-estimator:hover {background-color: #d4ebff;}#sk-container-id-1 div.sk-parallel-item::after {content: \"\";width: 100%;border-bottom: 1px solid gray;flex-grow: 1;}#sk-container-id-1 div.sk-label:hover label.sk-toggleable__label {background-color: #d4ebff;}#sk-container-id-1 div.sk-serial::before {content: \"\";position: absolute;border-left: 1px solid gray;box-sizing: border-box;top: 0;bottom: 0;left: 50%;z-index: 0;}#sk-container-id-1 div.sk-serial {display: flex;flex-direction: column;align-items: center;background-color: white;padding-right: 0.2em;padding-left: 0.2em;position: relative;}#sk-container-id-1 div.sk-item {position: relative;z-index: 1;}#sk-container-id-1 div.sk-parallel {display: flex;align-items: stretch;justify-content: center;background-color: white;position: relative;}#sk-container-id-1 div.sk-item::before, #sk-container-id-1 div.sk-parallel-item::before {content: \"\";position: absolute;border-left: 1px solid gray;box-sizing: border-box;top: 0;bottom: 0;left: 50%;z-index: -1;}#sk-container-id-1 div.sk-parallel-item {display: flex;flex-direction: column;z-index: 1;position: relative;background-color: white;}#sk-container-id-1 div.sk-parallel-item:first-child::after {align-self: flex-end;width: 50%;}#sk-container-id-1 div.sk-parallel-item:last-child::after {align-self: flex-start;width: 50%;}#sk-container-id-1 div.sk-parallel-item:only-child::after {width: 0;}#sk-container-id-1 div.sk-dashed-wrapped {border: 1px dashed gray;margin: 0 0.4em 0.5em 0.4em;box-sizing: border-box;padding-bottom: 0.4em;background-color: white;}#sk-container-id-1 div.sk-label label {font-family: monospace;font-weight: bold;display: inline-block;line-height: 1.2em;}#sk-container-id-1 div.sk-label-container {text-align: center;}#sk-container-id-1 div.sk-container {/* jupyter's `normalize.less` sets `[hidden] { display: none; }` but bootstrap.min.css set `[hidden] { display: none !important; }` so we also need the `!important` here to be able to override the default hidden behavior on the sphinx rendered scikit-learn.org. See: https://github.com/scikit-learn/scikit-learn/issues/21755 */display: inline-block !important;position: relative;}#sk-container-id-1 div.sk-text-repr-fallback {display: none;}</style><div id=\"sk-container-id-1\" class=\"sk-top-container\"><div class=\"sk-text-repr-fallback\"><pre>Pipeline(steps=[(&#x27;columntransformer&#x27;,\n",
       "                 ColumnTransformer(transformers=[(&#x27;functiontransformer-1&#x27;,\n",
       "                                                  FunctionTransformer(func=&lt;function preprocess_levy_and_fillna at 0x7f284559cd30&gt;),\n",
       "                                                  [&#x27;Prod. year&#x27;, &#x27;Levy&#x27;]),\n",
       "                                                 (&#x27;functiontransformer-2&#x27;,\n",
       "                                                  FunctionTransformer(func=&lt;function extract_numeric_features at 0x7f284559c790&gt;,\n",
       "                                                                      kw_args={&#x27;columns_to_extract&#x27;: [&#x27;Mileage&#x27;,\n",
       "                                                                                                      &#x27;Engine &#x27;\n",
       "                                                                                                      &#x27;volu...\n",
       "                                                                handle_unknown=&#x27;ignore&#x27;,\n",
       "                                                                sparse_output=False),\n",
       "                                                  [&#x27;Leather interior&#x27;,\n",
       "                                                   &#x27;Gear box type&#x27;,\n",
       "                                                   &#x27;Category&#x27;]),\n",
       "                                                 (&#x27;drop&#x27;, &#x27;drop&#x27;, [])])),\n",
       "                (&#x27;standardscaler&#x27;, StandardScaler()),\n",
       "                (&#x27;randomforestregressor&#x27;,\n",
       "                 RandomForestRegressor(bootstrap=False, max_depth=22,\n",
       "                                       max_features=0.9414935783510276,\n",
       "                                       min_samples_leaf=0.001002134328961941,\n",
       "                                       min_samples_split=0.0023146536832538587,\n",
       "                                       n_estimators=97, random_state=124))])</pre><b>In a Jupyter environment, please rerun this cell to show the HTML representation or trust the notebook. <br />On GitHub, the HTML representation is unable to render, please try loading this page with nbviewer.org.</b></div><div class=\"sk-container\" hidden><div class=\"sk-item sk-dashed-wrapped\"><div class=\"sk-label-container\"><div class=\"sk-label sk-toggleable\"><input class=\"sk-toggleable__control sk-hidden--visually\" id=\"sk-estimator-id-1\" type=\"checkbox\" ><label for=\"sk-estimator-id-1\" class=\"sk-toggleable__label sk-toggleable__label-arrow\">Pipeline</label><div class=\"sk-toggleable__content\"><pre>Pipeline(steps=[(&#x27;columntransformer&#x27;,\n",
       "                 ColumnTransformer(transformers=[(&#x27;functiontransformer-1&#x27;,\n",
       "                                                  FunctionTransformer(func=&lt;function preprocess_levy_and_fillna at 0x7f284559cd30&gt;),\n",
       "                                                  [&#x27;Prod. year&#x27;, &#x27;Levy&#x27;]),\n",
       "                                                 (&#x27;functiontransformer-2&#x27;,\n",
       "                                                  FunctionTransformer(func=&lt;function extract_numeric_features at 0x7f284559c790&gt;,\n",
       "                                                                      kw_args={&#x27;columns_to_extract&#x27;: [&#x27;Mileage&#x27;,\n",
       "                                                                                                      &#x27;Engine &#x27;\n",
       "                                                                                                      &#x27;volu...\n",
       "                                                                handle_unknown=&#x27;ignore&#x27;,\n",
       "                                                                sparse_output=False),\n",
       "                                                  [&#x27;Leather interior&#x27;,\n",
       "                                                   &#x27;Gear box type&#x27;,\n",
       "                                                   &#x27;Category&#x27;]),\n",
       "                                                 (&#x27;drop&#x27;, &#x27;drop&#x27;, [])])),\n",
       "                (&#x27;standardscaler&#x27;, StandardScaler()),\n",
       "                (&#x27;randomforestregressor&#x27;,\n",
       "                 RandomForestRegressor(bootstrap=False, max_depth=22,\n",
       "                                       max_features=0.9414935783510276,\n",
       "                                       min_samples_leaf=0.001002134328961941,\n",
       "                                       min_samples_split=0.0023146536832538587,\n",
       "                                       n_estimators=97, random_state=124))])</pre></div></div></div><div class=\"sk-serial\"><div class=\"sk-item sk-dashed-wrapped\"><div class=\"sk-label-container\"><div class=\"sk-label sk-toggleable\"><input class=\"sk-toggleable__control sk-hidden--visually\" id=\"sk-estimator-id-2\" type=\"checkbox\" ><label for=\"sk-estimator-id-2\" class=\"sk-toggleable__label sk-toggleable__label-arrow\">columntransformer: ColumnTransformer</label><div class=\"sk-toggleable__content\"><pre>ColumnTransformer(transformers=[(&#x27;functiontransformer-1&#x27;,\n",
       "                                 FunctionTransformer(func=&lt;function preprocess_levy_and_fillna at 0x7f284559cd30&gt;),\n",
       "                                 [&#x27;Prod. year&#x27;, &#x27;Levy&#x27;]),\n",
       "                                (&#x27;functiontransformer-2&#x27;,\n",
       "                                 FunctionTransformer(func=&lt;function extract_numeric_features at 0x7f284559c790&gt;,\n",
       "                                                     kw_args={&#x27;columns_to_extract&#x27;: [&#x27;Mileage&#x27;,\n",
       "                                                                                     &#x27;Engine &#x27;\n",
       "                                                                                     &#x27;volume&#x27;]}),\n",
       "                                 [&#x27;Mileage&#x27;, &#x27;Engine volume&#x27;]),\n",
       "                                (&#x27;ordinalencoder&#x27;,\n",
       "                                 OrdinalEncoder(dtype=&lt;class &#x27;int&#x27;&gt;,\n",
       "                                                handle_unknown=&#x27;use_encoded_value&#x27;,\n",
       "                                                unknown_value=-1),\n",
       "                                 [&#x27;Manufacturer&#x27;, &#x27;Model&#x27;, &#x27;Fuel type&#x27;]),\n",
       "                                (&#x27;onehotencoder&#x27;,\n",
       "                                 OneHotEncoder(drop=&#x27;if_binary&#x27;,\n",
       "                                               handle_unknown=&#x27;ignore&#x27;,\n",
       "                                               sparse_output=False),\n",
       "                                 [&#x27;Leather interior&#x27;, &#x27;Gear box type&#x27;,\n",
       "                                  &#x27;Category&#x27;]),\n",
       "                                (&#x27;drop&#x27;, &#x27;drop&#x27;, [])])</pre></div></div></div><div class=\"sk-parallel\"><div class=\"sk-parallel-item\"><div class=\"sk-item\"><div class=\"sk-label-container\"><div class=\"sk-label sk-toggleable\"><input class=\"sk-toggleable__control sk-hidden--visually\" id=\"sk-estimator-id-3\" type=\"checkbox\" ><label for=\"sk-estimator-id-3\" class=\"sk-toggleable__label sk-toggleable__label-arrow\">functiontransformer-1</label><div class=\"sk-toggleable__content\"><pre>[&#x27;Prod. year&#x27;, &#x27;Levy&#x27;]</pre></div></div></div><div class=\"sk-serial\"><div class=\"sk-item\"><div class=\"sk-estimator sk-toggleable\"><input class=\"sk-toggleable__control sk-hidden--visually\" id=\"sk-estimator-id-4\" type=\"checkbox\" ><label for=\"sk-estimator-id-4\" class=\"sk-toggleable__label sk-toggleable__label-arrow\">FunctionTransformer</label><div class=\"sk-toggleable__content\"><pre>FunctionTransformer(func=&lt;function preprocess_levy_and_fillna at 0x7f284559cd30&gt;)</pre></div></div></div></div></div></div><div class=\"sk-parallel-item\"><div class=\"sk-item\"><div class=\"sk-label-container\"><div class=\"sk-label sk-toggleable\"><input class=\"sk-toggleable__control sk-hidden--visually\" id=\"sk-estimator-id-5\" type=\"checkbox\" ><label for=\"sk-estimator-id-5\" class=\"sk-toggleable__label sk-toggleable__label-arrow\">functiontransformer-2</label><div class=\"sk-toggleable__content\"><pre>[&#x27;Mileage&#x27;, &#x27;Engine volume&#x27;]</pre></div></div></div><div class=\"sk-serial\"><div class=\"sk-item\"><div class=\"sk-estimator sk-toggleable\"><input class=\"sk-toggleable__control sk-hidden--visually\" id=\"sk-estimator-id-6\" type=\"checkbox\" ><label for=\"sk-estimator-id-6\" class=\"sk-toggleable__label sk-toggleable__label-arrow\">FunctionTransformer</label><div class=\"sk-toggleable__content\"><pre>FunctionTransformer(func=&lt;function extract_numeric_features at 0x7f284559c790&gt;,\n",
       "                    kw_args={&#x27;columns_to_extract&#x27;: [&#x27;Mileage&#x27;,\n",
       "                                                    &#x27;Engine volume&#x27;]})</pre></div></div></div></div></div></div><div class=\"sk-parallel-item\"><div class=\"sk-item\"><div class=\"sk-label-container\"><div class=\"sk-label sk-toggleable\"><input class=\"sk-toggleable__control sk-hidden--visually\" id=\"sk-estimator-id-7\" type=\"checkbox\" ><label for=\"sk-estimator-id-7\" class=\"sk-toggleable__label sk-toggleable__label-arrow\">ordinalencoder</label><div class=\"sk-toggleable__content\"><pre>[&#x27;Manufacturer&#x27;, &#x27;Model&#x27;, &#x27;Fuel type&#x27;]</pre></div></div></div><div class=\"sk-serial\"><div class=\"sk-item\"><div class=\"sk-estimator sk-toggleable\"><input class=\"sk-toggleable__control sk-hidden--visually\" id=\"sk-estimator-id-8\" type=\"checkbox\" ><label for=\"sk-estimator-id-8\" class=\"sk-toggleable__label sk-toggleable__label-arrow\">OrdinalEncoder</label><div class=\"sk-toggleable__content\"><pre>OrdinalEncoder(dtype=&lt;class &#x27;int&#x27;&gt;, handle_unknown=&#x27;use_encoded_value&#x27;,\n",
       "               unknown_value=-1)</pre></div></div></div></div></div></div><div class=\"sk-parallel-item\"><div class=\"sk-item\"><div class=\"sk-label-container\"><div class=\"sk-label sk-toggleable\"><input class=\"sk-toggleable__control sk-hidden--visually\" id=\"sk-estimator-id-9\" type=\"checkbox\" ><label for=\"sk-estimator-id-9\" class=\"sk-toggleable__label sk-toggleable__label-arrow\">onehotencoder</label><div class=\"sk-toggleable__content\"><pre>[&#x27;Leather interior&#x27;, &#x27;Gear box type&#x27;, &#x27;Category&#x27;]</pre></div></div></div><div class=\"sk-serial\"><div class=\"sk-item\"><div class=\"sk-estimator sk-toggleable\"><input class=\"sk-toggleable__control sk-hidden--visually\" id=\"sk-estimator-id-10\" type=\"checkbox\" ><label for=\"sk-estimator-id-10\" class=\"sk-toggleable__label sk-toggleable__label-arrow\">OneHotEncoder</label><div class=\"sk-toggleable__content\"><pre>OneHotEncoder(drop=&#x27;if_binary&#x27;, handle_unknown=&#x27;ignore&#x27;, sparse_output=False)</pre></div></div></div></div></div></div><div class=\"sk-parallel-item\"><div class=\"sk-item\"><div class=\"sk-label-container\"><div class=\"sk-label sk-toggleable\"><input class=\"sk-toggleable__control sk-hidden--visually\" id=\"sk-estimator-id-11\" type=\"checkbox\" ><label for=\"sk-estimator-id-11\" class=\"sk-toggleable__label sk-toggleable__label-arrow\">drop</label><div class=\"sk-toggleable__content\"><pre>[]</pre></div></div></div><div class=\"sk-serial\"><div class=\"sk-item\"><div class=\"sk-estimator sk-toggleable\"><input class=\"sk-toggleable__control sk-hidden--visually\" id=\"sk-estimator-id-12\" type=\"checkbox\" ><label for=\"sk-estimator-id-12\" class=\"sk-toggleable__label sk-toggleable__label-arrow\">drop</label><div class=\"sk-toggleable__content\"><pre>drop</pre></div></div></div></div></div></div></div></div><div class=\"sk-item\"><div class=\"sk-estimator sk-toggleable\"><input class=\"sk-toggleable__control sk-hidden--visually\" id=\"sk-estimator-id-13\" type=\"checkbox\" ><label for=\"sk-estimator-id-13\" class=\"sk-toggleable__label sk-toggleable__label-arrow\">StandardScaler</label><div class=\"sk-toggleable__content\"><pre>StandardScaler()</pre></div></div></div><div class=\"sk-item\"><div class=\"sk-estimator sk-toggleable\"><input class=\"sk-toggleable__control sk-hidden--visually\" id=\"sk-estimator-id-14\" type=\"checkbox\" ><label for=\"sk-estimator-id-14\" class=\"sk-toggleable__label sk-toggleable__label-arrow\">RandomForestRegressor</label><div class=\"sk-toggleable__content\"><pre>RandomForestRegressor(bootstrap=False, max_depth=22,\n",
       "                      max_features=0.9414935783510276,\n",
       "                      min_samples_leaf=0.001002134328961941,\n",
       "                      min_samples_split=0.0023146536832538587, n_estimators=97,\n",
       "                      random_state=124)</pre></div></div></div></div></div></div></div>"
      ],
      "text/plain": [
       "Pipeline(steps=[('columntransformer',\n",
       "                 ColumnTransformer(transformers=[('functiontransformer-1',\n",
       "                                                  FunctionTransformer(func=<function preprocess_levy_and_fillna at 0x7f284559cd30>),\n",
       "                                                  ['Prod. year', 'Levy']),\n",
       "                                                 ('functiontransformer-2',\n",
       "                                                  FunctionTransformer(func=<function extract_numeric_features at 0x7f284559c790>,\n",
       "                                                                      kw_args={'columns_to_extract': ['Mileage',\n",
       "                                                                                                      'Engine '\n",
       "                                                                                                      'volu...\n",
       "                                                                handle_unknown='ignore',\n",
       "                                                                sparse_output=False),\n",
       "                                                  ['Leather interior',\n",
       "                                                   'Gear box type',\n",
       "                                                   'Category']),\n",
       "                                                 ('drop', 'drop', [])])),\n",
       "                ('standardscaler', StandardScaler()),\n",
       "                ('randomforestregressor',\n",
       "                 RandomForestRegressor(bootstrap=False, max_depth=22,\n",
       "                                       max_features=0.9414935783510276,\n",
       "                                       min_samples_leaf=0.001002134328961941,\n",
       "                                       min_samples_split=0.0023146536832538587,\n",
       "                                       n_estimators=97, random_state=124))])"
      ]
     },
     "execution_count": 7,
     "metadata": {},
     "output_type": "execute_result"
    }
   ],
   "source": [
    "rf_model = rf[\"model\"]\n",
    "rf_model"
   ]
  },
  {
   "cell_type": "markdown",
   "id": "e1eea14c-8716-4e01-804c-3868de355300",
   "metadata": {},
   "source": [
    "Predicting with the test data"
   ]
  },
  {
   "cell_type": "code",
   "execution_count": 8,
   "id": "6b33f3ae-b4b1-43b1-a0c0-ab28a1d6b5f5",
   "metadata": {
    "tags": []
   },
   "outputs": [
    {
     "data": {
      "text/plain": [
       "array([26821.51119488, 17481.25051534])"
      ]
     },
     "execution_count": 8,
     "metadata": {},
     "output_type": "execute_result"
    }
   ],
   "source": [
    "rf_model.predict(test_data)"
   ]
  },
  {
   "cell_type": "markdown",
   "id": "08433eb9",
   "metadata": {},
   "source": [
    "It is clear that the model can be used to make inferences. Next, lets deploy it to an endpoint so users have access to it."
   ]
  },
  {
   "cell_type": "markdown",
   "id": "ba7f962c",
   "metadata": {
    "tags": []
   },
   "source": [
    "## Using Sagemaker"
   ]
  },
  {
   "cell_type": "markdown",
   "id": "088b41e0",
   "metadata": {},
   "source": [
    "To simplify the process we will retrain an in-built sagemaker xgboost model and deploy it to an endpoint."
   ]
  },
  {
   "cell_type": "code",
   "execution_count": 9,
   "id": "89aba876",
   "metadata": {
    "tags": []
   },
   "outputs": [
    {
     "name": "stdout",
     "output_type": "stream",
     "text": [
      "sagemaker.config INFO - Not applying SDK defaults from location: /etc/xdg/sagemaker/config.yaml\n",
      "sagemaker.config INFO - Not applying SDK defaults from location: /home/ec2-user/.config/sagemaker/config.yaml\n"
     ]
    }
   ],
   "source": [
    "import sagemaker\n",
    "import boto3\n",
    "\n",
    "from sagemaker import image_uris\n",
    "from sagemaker.session import s3_input, Session"
   ]
  },
  {
   "cell_type": "code",
   "execution_count": 10,
   "id": "884011a0",
   "metadata": {
    "tags": []
   },
   "outputs": [],
   "source": [
    "bucket_name = 'car-prices-prediction'\n",
    "my_region = boto3.session.Session().region_name\n",
    "prefix = \"20240223\""
   ]
  },
  {
   "cell_type": "code",
   "execution_count": 11,
   "id": "57ad68ce",
   "metadata": {
    "tags": []
   },
   "outputs": [
    {
     "name": "stdout",
     "output_type": "stream",
     "text": [
      "Output path: s3://car-prices-prediction/sagemaker_output/20240223\n"
     ]
    }
   ],
   "source": [
    "train_format = f's3://{bucket_name}/data/cleaned/{prefix}/train_v{prefix}.csv'\n",
    "test_format = f's3://{bucket_name}/data/cleaned/{prefix}/val_v{prefix}.csv'\n",
    "output_path = f's3://{bucket_name}/sagemaker_output/{prefix}'\n",
    "print(f\"Output path: {output_path}\")"
   ]
  },
  {
   "cell_type": "code",
   "execution_count": 12,
   "id": "44b3a6f6-03e5-493f-9563-f0fd588289f5",
   "metadata": {
    "tags": []
   },
   "outputs": [
    {
     "data": {
      "text/plain": [
       "'s3://car-prices-prediction/data/cleaned/20240223/train_v20240223.csv'"
      ]
     },
     "execution_count": 12,
     "metadata": {},
     "output_type": "execute_result"
    }
   ],
   "source": [
    "train_format"
   ]
  },
  {
   "cell_type": "code",
   "execution_count": 13,
   "id": "e137bc7a-e6c9-4338-b8be-09c21ddeba77",
   "metadata": {
    "tags": []
   },
   "outputs": [
    {
     "data": {
      "text/plain": [
       "'s3://car-prices-prediction/data/cleaned/20240223/val_v20240223.csv'"
      ]
     },
     "execution_count": 13,
     "metadata": {},
     "output_type": "execute_result"
    }
   ],
   "source": [
    "test_format"
   ]
  },
  {
   "cell_type": "markdown",
   "id": "b364c608-7468-4dcd-889a-15afe7ac6da7",
   "metadata": {},
   "source": [
    "Creating the train and validation data"
   ]
  },
  {
   "cell_type": "code",
   "execution_count": 14,
   "id": "42cd97b4",
   "metadata": {
    "tags": []
   },
   "outputs": [],
   "source": [
    "s3_train_data = sagemaker.inputs.TrainingInput(s3_data=train_format, content_type='csv')\n",
    "s3_val_data = sagemaker.inputs.TrainingInput(s3_data=test_format, content_type='csv')"
   ]
  },
  {
   "cell_type": "markdown",
   "id": "de6202f0-9dc3-4c79-ae6e-ec66ca0952c1",
   "metadata": {},
   "source": [
    "## Training Model"
   ]
  },
  {
   "cell_type": "code",
   "execution_count": 15,
   "id": "ed542b5d",
   "metadata": {
    "tags": []
   },
   "outputs": [
    {
     "data": {
      "text/plain": [
       "'811284229777.dkr.ecr.us-east-1.amazonaws.com/xgboost:latest'"
      ]
     },
     "execution_count": 15,
     "metadata": {},
     "output_type": "execute_result"
    }
   ],
   "source": [
    "container = image_uris.retrieve('xgboost', boto3.Session().region_name, version='latest')\n",
    "container"
   ]
  },
  {
   "cell_type": "code",
   "execution_count": 16,
   "id": "28d7af3f",
   "metadata": {
    "tags": []
   },
   "outputs": [],
   "source": [
    "xgb_best_params =  {'colsample_bytree': 0.9976711378207281,\n",
    "                      'min_child_weight': 3.157431071502319,\n",
    "                      'learning_rate': 0.01094008867924328,\n",
    "                      'gamma': 0.7032856276348437,\n",
    "                      'max_depth': 10,\n",
    "                      'n_estimators': 351,\n",
    "                      'subsample': 0.9118162108383395,\n",
    "                      'reg_alpha': 0.43473034704658026,\n",
    "                      'reg_lambda': 0.2305809419908718,\n",
    "                       'num_round':50}"
   ]
  },
  {
   "cell_type": "code",
   "execution_count": 17,
   "id": "ffd71d2f",
   "metadata": {
    "tags": []
   },
   "outputs": [],
   "source": [
    "# Create a SageMaker Model\n",
    "estimator = sagemaker.estimator.Estimator(image_uri=container,\n",
    "                                         hyperparameters=xgb_best_params,\n",
    "                                         role=sagemaker.get_execution_role(),\n",
    "                                         instance_count=1,\n",
    "                                         instance_type='ml.m5.2xlarge',\n",
    "                                         train_volumne_size=5,\n",
    "                                         output_path=output_path,\n",
    "                                         use_spot_instances=True,\n",
    "                                         max_run=300,\n",
    "                                         max_wait=600)"
   ]
  },
  {
   "cell_type": "code",
   "execution_count": 18,
   "id": "559e91be",
   "metadata": {
    "tags": []
   },
   "outputs": [
    {
     "name": "stderr",
     "output_type": "stream",
     "text": [
      "INFO:sagemaker:Creating training-job with name: xgboost-2024-03-04-04-05-26-047\n"
     ]
    },
    {
     "name": "stdout",
     "output_type": "stream",
     "text": [
      "2024-03-04 04:05:26 Starting - Starting the training job...\n",
      "2024-03-04 04:05:42 Starting - Preparing the instances for training...\n",
      "2024-03-04 04:06:15 Downloading - Downloading input data...\n",
      "2024-03-04 04:06:30 Downloading - Downloading the training image...\n",
      "2024-03-04 04:07:06 Training - Training image download completed. Training in progress..\u001b[34mArguments: train\u001b[0m\n",
      "\u001b[34m[2024-03-04:04:07:24:INFO] Running standalone xgboost training.\u001b[0m\n",
      "\u001b[34m[2024-03-04:04:07:24:INFO] File size need to be processed in the node: 2.18mb. Available memory size in the node: 23955.0mb\u001b[0m\n",
      "\u001b[34m[2024-03-04:04:07:24:INFO] Determined delimiter of CSV input is ','\u001b[0m\n",
      "\u001b[34m[04:07:24] S3DistributionType set as FullyReplicated\u001b[0m\n",
      "\u001b[34m[04:07:24] 15389x23 matrix with 353947 entries loaded from /opt/ml/input/data/train?format=csv&label_column=0&delimiter=,\u001b[0m\n",
      "\u001b[34m[2024-03-04:04:07:24:INFO] Determined delimiter of CSV input is ','\u001b[0m\n",
      "\u001b[34m[04:07:24] S3DistributionType set as FullyReplicated\u001b[0m\n",
      "\u001b[34m[04:07:24] 3848x23 matrix with 88504 entries loaded from /opt/ml/input/data/validation?format=csv&label_column=0&delimiter=,\u001b[0m\n",
      "\u001b[34m[04:07:24] src/tree/updater_prune.cc:74: tree pruning end, 1 roots, 0 extra nodes, 0 pruned nodes, max_depth=0\u001b[0m\n",
      "\u001b[34m[0]#011train-rmse:1407.37#011validation-rmse:1407.21\u001b[0m\n",
      "\u001b[34m[04:07:24] src/tree/updater_prune.cc:74: tree pruning end, 1 roots, 0 extra nodes, 0 pruned nodes, max_depth=0\u001b[0m\n",
      "\u001b[34m[1]#011train-rmse:985.198#011validation-rmse:985.042\u001b[0m\n",
      "\u001b[34m[04:07:24] src/tree/updater_prune.cc:74: tree pruning end, 1 roots, 0 extra nodes, 0 pruned nodes, max_depth=0\u001b[0m\n",
      "\u001b[34m[2]#011train-rmse:689.669#011validation-rmse:689.514\u001b[0m\n",
      "\u001b[34m[04:07:24] src/tree/updater_prune.cc:74: tree pruning end, 1 roots, 0 extra nodes, 0 pruned nodes, max_depth=0\u001b[0m\n",
      "\u001b[34m[3]#011train-rmse:482.796#011validation-rmse:482.641\u001b[0m\n",
      "\u001b[34m[04:07:24] src/tree/updater_prune.cc:74: tree pruning end, 1 roots, 0 extra nodes, 0 pruned nodes, max_depth=0\u001b[0m\n",
      "\u001b[34m[4]#011train-rmse:337.99#011validation-rmse:337.836\u001b[0m\n",
      "\u001b[34m[04:07:24] src/tree/updater_prune.cc:74: tree pruning end, 1 roots, 2 extra nodes, 0 pruned nodes, max_depth=1\u001b[0m\n",
      "\u001b[34m[5]#011train-rmse:236.627#011validation-rmse:236.432\u001b[0m\n",
      "\u001b[34m[04:07:24] src/tree/updater_prune.cc:74: tree pruning end, 1 roots, 4 extra nodes, 0 pruned nodes, max_depth=2\u001b[0m\n",
      "\u001b[34m[6]#011train-rmse:165.679#011validation-rmse:165.735\u001b[0m\n",
      "\u001b[34m[04:07:24] src/tree/updater_prune.cc:74: tree pruning end, 1 roots, 2 extra nodes, 0 pruned nodes, max_depth=1\u001b[0m\n",
      "\u001b[34m[7]#011train-rmse:116.014#011validation-rmse:116.079\u001b[0m\n",
      "\u001b[34m[04:07:24] src/tree/updater_prune.cc:74: tree pruning end, 1 roots, 8 extra nodes, 0 pruned nodes, max_depth=3\u001b[0m\n",
      "\u001b[34m[8]#011train-rmse:81.2518#011validation-rmse:81.4072\u001b[0m\n",
      "\u001b[34m[04:07:24] src/tree/updater_prune.cc:74: tree pruning end, 1 roots, 4 extra nodes, 0 pruned nodes, max_depth=2\u001b[0m\n",
      "\u001b[34m[9]#011train-rmse:56.9252#011validation-rmse:57.0966\u001b[0m\n",
      "\u001b[34m[04:07:24] src/tree/updater_prune.cc:74: tree pruning end, 1 roots, 12 extra nodes, 0 pruned nodes, max_depth=5\u001b[0m\n",
      "\u001b[34m[10]#011train-rmse:39.9092#011validation-rmse:40.1939\u001b[0m\n",
      "\u001b[34m[04:07:24] src/tree/updater_prune.cc:74: tree pruning end, 1 roots, 28 extra nodes, 0 pruned nodes, max_depth=9\u001b[0m\n",
      "\u001b[34m[11]#011train-rmse:28.0103#011validation-rmse:28.4228\u001b[0m\n",
      "\u001b[34m[04:07:24] src/tree/updater_prune.cc:74: tree pruning end, 1 roots, 44 extra nodes, 0 pruned nodes, max_depth=10\u001b[0m\n",
      "\u001b[34m[12]#011train-rmse:19.698#011validation-rmse:20.095\u001b[0m\n",
      "\u001b[34m[04:07:24] src/tree/updater_prune.cc:74: tree pruning end, 1 roots, 76 extra nodes, 0 pruned nodes, max_depth=10\u001b[0m\n",
      "\u001b[34m[13]#011train-rmse:13.896#011validation-rmse:14.4181\u001b[0m\n",
      "\u001b[34m[04:07:24] src/tree/updater_prune.cc:74: tree pruning end, 1 roots, 160 extra nodes, 0 pruned nodes, max_depth=10\u001b[0m\n",
      "\u001b[34m[14]#011train-rmse:9.84118#011validation-rmse:10.4602\u001b[0m\n",
      "\u001b[34m[04:07:24] src/tree/updater_prune.cc:74: tree pruning end, 1 roots, 142 extra nodes, 0 pruned nodes, max_depth=10\u001b[0m\n",
      "\u001b[34m[15]#011train-rmse:7.03067#011validation-rmse:7.77895\u001b[0m\n",
      "\u001b[34m[04:07:24] src/tree/updater_prune.cc:74: tree pruning end, 1 roots, 234 extra nodes, 6 pruned nodes, max_depth=10\u001b[0m\n",
      "\u001b[34m[16]#011train-rmse:5.0916#011validation-rmse:6.02699\u001b[0m\n",
      "\u001b[34m[04:07:24] src/tree/updater_prune.cc:74: tree pruning end, 1 roots, 270 extra nodes, 0 pruned nodes, max_depth=10\u001b[0m\n",
      "\u001b[34m[17]#011train-rmse:3.76708#011validation-rmse:4.79796\u001b[0m\n",
      "\u001b[34m[04:07:24] src/tree/updater_prune.cc:74: tree pruning end, 1 roots, 214 extra nodes, 2 pruned nodes, max_depth=10\u001b[0m\n",
      "\u001b[34m[18]#011train-rmse:2.88039#011validation-rmse:4.09418\u001b[0m\n",
      "\u001b[34m[04:07:24] src/tree/updater_prune.cc:74: tree pruning end, 1 roots, 140 extra nodes, 10 pruned nodes, max_depth=10\u001b[0m\n",
      "\u001b[34m[19]#011train-rmse:2.30389#011validation-rmse:3.65557\u001b[0m\n",
      "\u001b[34m[04:07:24] src/tree/updater_prune.cc:74: tree pruning end, 1 roots, 490 extra nodes, 38 pruned nodes, max_depth=10\u001b[0m\n",
      "\u001b[34m[20]#011train-rmse:1.89368#011validation-rmse:3.37033\u001b[0m\n",
      "\u001b[34m[04:07:24] src/tree/updater_prune.cc:74: tree pruning end, 1 roots, 196 extra nodes, 8 pruned nodes, max_depth=10\u001b[0m\n",
      "\u001b[34m[21]#011train-rmse:1.67071#011validation-rmse:3.22738\u001b[0m\n",
      "\u001b[34m[04:07:24] src/tree/updater_prune.cc:74: tree pruning end, 1 roots, 152 extra nodes, 2 pruned nodes, max_depth=10\u001b[0m\n",
      "\u001b[34m[22]#011train-rmse:1.53166#011validation-rmse:3.15947\u001b[0m\n",
      "\u001b[34m[04:07:24] src/tree/updater_prune.cc:74: tree pruning end, 1 roots, 634 extra nodes, 40 pruned nodes, max_depth=10\u001b[0m\n",
      "\u001b[34m[23]#011train-rmse:1.34567#011validation-rmse:3.10704\u001b[0m\n",
      "\u001b[34m[04:07:24] src/tree/updater_prune.cc:74: tree pruning end, 1 roots, 114 extra nodes, 12 pruned nodes, max_depth=10\u001b[0m\n",
      "\u001b[34m[24]#011train-rmse:1.30129#011validation-rmse:3.08564\u001b[0m\n",
      "\u001b[34m[04:07:24] src/tree/updater_prune.cc:74: tree pruning end, 1 roots, 202 extra nodes, 4 pruned nodes, max_depth=10\u001b[0m\n",
      "\u001b[34m[25]#011train-rmse:1.24182#011validation-rmse:3.05318\u001b[0m\n",
      "\u001b[34m[04:07:24] src/tree/updater_prune.cc:74: tree pruning end, 1 roots, 346 extra nodes, 22 pruned nodes, max_depth=10\u001b[0m\n",
      "\u001b[34m[26]#011train-rmse:1.19511#011validation-rmse:3.02927\u001b[0m\n",
      "\u001b[34m[04:07:24] src/tree/updater_prune.cc:74: tree pruning end, 1 roots, 332 extra nodes, 72 pruned nodes, max_depth=10\u001b[0m\n",
      "\u001b[34m[27]#011train-rmse:1.14497#011validation-rmse:2.98726\u001b[0m\n",
      "\u001b[34m[04:07:24] src/tree/updater_prune.cc:74: tree pruning end, 1 roots, 514 extra nodes, 50 pruned nodes, max_depth=10\u001b[0m\n",
      "\u001b[34m[28]#011train-rmse:1.07859#011validation-rmse:2.94705\u001b[0m\n",
      "\u001b[34m[04:07:24] src/tree/updater_prune.cc:74: tree pruning end, 1 roots, 264 extra nodes, 30 pruned nodes, max_depth=10\u001b[0m\n",
      "\u001b[34m[29]#011train-rmse:1.05367#011validation-rmse:2.94944\u001b[0m\n",
      "\u001b[34m[04:07:24] src/tree/updater_prune.cc:74: tree pruning end, 1 roots, 362 extra nodes, 22 pruned nodes, max_depth=10\u001b[0m\n",
      "\u001b[34m[30]#011train-rmse:1.01371#011validation-rmse:2.93112\u001b[0m\n",
      "\u001b[34m[04:07:24] src/tree/updater_prune.cc:74: tree pruning end, 1 roots, 204 extra nodes, 22 pruned nodes, max_depth=10\u001b[0m\n",
      "\u001b[34m[31]#011train-rmse:0.991235#011validation-rmse:2.91638\u001b[0m\n",
      "\u001b[34m[04:07:24] src/tree/updater_prune.cc:74: tree pruning end, 1 roots, 340 extra nodes, 60 pruned nodes, max_depth=10\u001b[0m\n",
      "\u001b[34m[32]#011train-rmse:0.958554#011validation-rmse:2.92499\u001b[0m\n",
      "\u001b[34m[04:07:24] src/tree/updater_prune.cc:74: tree pruning end, 1 roots, 376 extra nodes, 30 pruned nodes, max_depth=10\u001b[0m\n",
      "\u001b[34m[33]#011train-rmse:0.93184#011validation-rmse:2.91562\u001b[0m\n",
      "\u001b[34m[04:07:24] src/tree/updater_prune.cc:74: tree pruning end, 1 roots, 346 extra nodes, 52 pruned nodes, max_depth=10\u001b[0m\n",
      "\u001b[34m[34]#011train-rmse:0.905527#011validation-rmse:2.91191\u001b[0m\n",
      "\u001b[34m[04:07:24] src/tree/updater_prune.cc:74: tree pruning end, 1 roots, 238 extra nodes, 72 pruned nodes, max_depth=10\u001b[0m\n",
      "\u001b[34m[35]#011train-rmse:0.891631#011validation-rmse:2.90639\u001b[0m\n",
      "\u001b[34m[04:07:24] src/tree/updater_prune.cc:74: tree pruning end, 1 roots, 292 extra nodes, 28 pruned nodes, max_depth=10\u001b[0m\n",
      "\u001b[34m[36]#011train-rmse:0.853057#011validation-rmse:2.90379\u001b[0m\n",
      "\u001b[34m[04:07:24] src/tree/updater_prune.cc:74: tree pruning end, 1 roots, 414 extra nodes, 94 pruned nodes, max_depth=10\u001b[0m\n",
      "\u001b[34m[37]#011train-rmse:0.82788#011validation-rmse:2.90928\u001b[0m\n",
      "\u001b[34m[04:07:24] src/tree/updater_prune.cc:74: tree pruning end, 1 roots, 120 extra nodes, 26 pruned nodes, max_depth=10\u001b[0m\n",
      "\u001b[34m[38]#011train-rmse:0.822555#011validation-rmse:2.90999\u001b[0m\n",
      "\u001b[34m[04:07:24] src/tree/updater_prune.cc:74: tree pruning end, 1 roots, 502 extra nodes, 104 pruned nodes, max_depth=10\u001b[0m\n",
      "\u001b[34m[39]#011train-rmse:0.786071#011validation-rmse:2.90341\u001b[0m\n",
      "\u001b[34m[04:07:24] src/tree/updater_prune.cc:74: tree pruning end, 1 roots, 396 extra nodes, 62 pruned nodes, max_depth=10\u001b[0m\n",
      "\u001b[34m[40]#011train-rmse:0.761843#011validation-rmse:2.90062\u001b[0m\n",
      "\u001b[34m[04:07:24] src/tree/updater_prune.cc:74: tree pruning end, 1 roots, 252 extra nodes, 64 pruned nodes, max_depth=10\u001b[0m\n",
      "\u001b[34m[41]#011train-rmse:0.744345#011validation-rmse:2.89667\u001b[0m\n",
      "\u001b[34m[04:07:24] src/tree/updater_prune.cc:74: tree pruning end, 1 roots, 442 extra nodes, 104 pruned nodes, max_depth=10\u001b[0m\n",
      "\u001b[34m[42]#011train-rmse:0.712884#011validation-rmse:2.89523\u001b[0m\n",
      "\u001b[34m[04:07:24] src/tree/updater_prune.cc:74: tree pruning end, 1 roots, 272 extra nodes, 60 pruned nodes, max_depth=10\u001b[0m\n",
      "\u001b[34m[43]#011train-rmse:0.699246#011validation-rmse:2.89372\u001b[0m\n",
      "\u001b[34m[04:07:24] src/tree/updater_prune.cc:74: tree pruning end, 1 roots, 376 extra nodes, 194 pruned nodes, max_depth=10\u001b[0m\n",
      "\u001b[34m[44]#011train-rmse:0.681238#011validation-rmse:2.88712\u001b[0m\n",
      "\u001b[34m[04:07:24] src/tree/updater_prune.cc:74: tree pruning end, 1 roots, 212 extra nodes, 44 pruned nodes, max_depth=10\u001b[0m\n",
      "\u001b[34m[45]#011train-rmse:0.669164#011validation-rmse:2.88487\u001b[0m\n",
      "\u001b[34m[04:07:24] src/tree/updater_prune.cc:74: tree pruning end, 1 roots, 266 extra nodes, 88 pruned nodes, max_depth=10\u001b[0m\n",
      "\u001b[34m[46]#011train-rmse:0.656685#011validation-rmse:2.88942\u001b[0m\n",
      "\u001b[34m[04:07:24] src/tree/updater_prune.cc:74: tree pruning end, 1 roots, 378 extra nodes, 80 pruned nodes, max_depth=10\u001b[0m\n",
      "\u001b[34m[47]#011train-rmse:0.639664#011validation-rmse:2.89005\u001b[0m\n",
      "\u001b[34m[04:07:24] src/tree/updater_prune.cc:74: tree pruning end, 1 roots, 150 extra nodes, 126 pruned nodes, max_depth=10\u001b[0m\n",
      "\u001b[34m[48]#011train-rmse:0.633609#011validation-rmse:2.90021\u001b[0m\n",
      "\u001b[34m[04:07:24] src/tree/updater_prune.cc:74: tree pruning end, 1 roots, 340 extra nodes, 88 pruned nodes, max_depth=10\u001b[0m\n",
      "\u001b[34m[49]#011train-rmse:0.614529#011validation-rmse:2.89744\u001b[0m\n",
      "\n",
      "2024-03-04 04:07:42 Uploading - Uploading generated training model\n",
      "2024-03-04 04:07:42 Completed - Training job completed\n",
      "Training seconds: 87\n",
      "Billable seconds: 39\n",
      "Managed Spot Training savings: 55.2%\n"
     ]
    }
   ],
   "source": [
    "estimator.fit({'train':s3_train_data, 'validation':s3_val_data})"
   ]
  },
  {
   "cell_type": "markdown",
   "id": "4e6706c6-dcbd-497a-a04b-451e2c77a5be",
   "metadata": {},
   "source": [
    "## Deploying The Model To An Endpoint"
   ]
  },
  {
   "cell_type": "markdown",
   "id": "40e02997-750d-4fb2-a1ad-958eaa7e61a5",
   "metadata": {},
   "source": [
    "Next we need to deploy the model to an endpoint. This can be done programmatically."
   ]
  },
  {
   "cell_type": "code",
   "execution_count": 19,
   "id": "a40c6e50-267f-43af-bb9a-332a5b533985",
   "metadata": {},
   "outputs": [
    {
     "name": "stderr",
     "output_type": "stream",
     "text": [
      "INFO:sagemaker:Creating model with name: xgboost-2024-03-04-04-13-05-983\n",
      "INFO:sagemaker:Creating endpoint-config with name xgboost-2024-03-04-04-13-05-983\n",
      "INFO:sagemaker:Creating endpoint with name xgboost-2024-03-04-04-13-05-983\n"
     ]
    },
    {
     "name": "stdout",
     "output_type": "stream",
     "text": [
      "-----!"
     ]
    }
   ],
   "source": [
    "xgb_predictor = estimator.deploy(initial_instance_count=1, instance_type='ml.m4.xlarge')"
   ]
  },
  {
   "cell_type": "markdown",
   "id": "d73e3551",
   "metadata": {},
   "source": [
    "**Before we make predictions we need to preprocess the test data**"
   ]
  },
  {
   "cell_type": "code",
   "execution_count": 23,
   "id": "9c2a5556",
   "metadata": {},
   "outputs": [],
   "source": [
    "from utils.clean_and_return_dataframe import clean_and_return_dataframe"
   ]
  },
  {
   "cell_type": "code",
   "execution_count": 61,
   "id": "2d1442f6",
   "metadata": {},
   "outputs": [
    {
     "data": {
      "text/html": [
       "<div>\n",
       "<style scoped>\n",
       "    .dataframe tbody tr th:only-of-type {\n",
       "        vertical-align: middle;\n",
       "    }\n",
       "\n",
       "    .dataframe tbody tr th {\n",
       "        vertical-align: top;\n",
       "    }\n",
       "\n",
       "    .dataframe thead th {\n",
       "        text-align: right;\n",
       "    }\n",
       "</style>\n",
       "<table border=\"1\" class=\"dataframe\">\n",
       "  <thead>\n",
       "    <tr style=\"text-align: right;\">\n",
       "      <th></th>\n",
       "      <th>Prod. year</th>\n",
       "      <th>Levy</th>\n",
       "      <th>Mileage</th>\n",
       "      <th>Engine volume</th>\n",
       "      <th>Manufacturer</th>\n",
       "      <th>Model</th>\n",
       "      <th>Fuel type</th>\n",
       "      <th>Leather interior_Yes</th>\n",
       "      <th>Gear box type_Automatic</th>\n",
       "      <th>Gear box type_Manual</th>\n",
       "      <th>...</th>\n",
       "      <th>Category_Goods wagon</th>\n",
       "      <th>Category_Hatchback</th>\n",
       "      <th>Category_Jeep</th>\n",
       "      <th>Category_Limousine</th>\n",
       "      <th>Category_Microbus</th>\n",
       "      <th>Category_Minivan</th>\n",
       "      <th>Category_Pickup</th>\n",
       "      <th>Category_Sedan</th>\n",
       "      <th>Category_Universal</th>\n",
       "      <th>Price</th>\n",
       "    </tr>\n",
       "  </thead>\n",
       "  <tbody>\n",
       "    <tr>\n",
       "      <th>0</th>\n",
       "      <td>2012.0</td>\n",
       "      <td>789.0</td>\n",
       "      <td>0.0</td>\n",
       "      <td>2.0</td>\n",
       "      <td>58.0</td>\n",
       "      <td>521.0</td>\n",
       "      <td>1.0</td>\n",
       "      <td>0.0</td>\n",
       "      <td>0.0</td>\n",
       "      <td>1.0</td>\n",
       "      <td>...</td>\n",
       "      <td>0.0</td>\n",
       "      <td>1.0</td>\n",
       "      <td>0.0</td>\n",
       "      <td>0.0</td>\n",
       "      <td>0.0</td>\n",
       "      <td>0.0</td>\n",
       "      <td>0.0</td>\n",
       "      <td>0.0</td>\n",
       "      <td>0.0</td>\n",
       "      <td>NaN</td>\n",
       "    </tr>\n",
       "    <tr>\n",
       "      <th>1</th>\n",
       "      <td>2012.0</td>\n",
       "      <td>789.0</td>\n",
       "      <td>26000.0</td>\n",
       "      <td>2.4</td>\n",
       "      <td>23.0</td>\n",
       "      <td>837.0</td>\n",
       "      <td>5.0</td>\n",
       "      <td>1.0</td>\n",
       "      <td>0.0</td>\n",
       "      <td>0.0</td>\n",
       "      <td>...</td>\n",
       "      <td>0.0</td>\n",
       "      <td>0.0</td>\n",
       "      <td>0.0</td>\n",
       "      <td>0.0</td>\n",
       "      <td>0.0</td>\n",
       "      <td>0.0</td>\n",
       "      <td>0.0</td>\n",
       "      <td>1.0</td>\n",
       "      <td>0.0</td>\n",
       "      <td>NaN</td>\n",
       "    </tr>\n",
       "    <tr>\n",
       "      <th>2</th>\n",
       "      <td>2005.0</td>\n",
       "      <td>1925.0</td>\n",
       "      <td>168000.0</td>\n",
       "      <td>1.5</td>\n",
       "      <td>40.0</td>\n",
       "      <td>885.0</td>\n",
       "      <td>5.0</td>\n",
       "      <td>0.0</td>\n",
       "      <td>1.0</td>\n",
       "      <td>0.0</td>\n",
       "      <td>...</td>\n",
       "      <td>0.0</td>\n",
       "      <td>0.0</td>\n",
       "      <td>0.0</td>\n",
       "      <td>0.0</td>\n",
       "      <td>0.0</td>\n",
       "      <td>0.0</td>\n",
       "      <td>0.0</td>\n",
       "      <td>1.0</td>\n",
       "      <td>0.0</td>\n",
       "      <td>NaN</td>\n",
       "    </tr>\n",
       "    <tr>\n",
       "      <th>3</th>\n",
       "      <td>2012.0</td>\n",
       "      <td>975.0</td>\n",
       "      <td>143000.0</td>\n",
       "      <td>3.2</td>\n",
       "      <td>59.0</td>\n",
       "      <td>970.0</td>\n",
       "      <td>5.0</td>\n",
       "      <td>1.0</td>\n",
       "      <td>1.0</td>\n",
       "      <td>0.0</td>\n",
       "      <td>...</td>\n",
       "      <td>0.0</td>\n",
       "      <td>0.0</td>\n",
       "      <td>1.0</td>\n",
       "      <td>0.0</td>\n",
       "      <td>0.0</td>\n",
       "      <td>0.0</td>\n",
       "      <td>0.0</td>\n",
       "      <td>0.0</td>\n",
       "      <td>0.0</td>\n",
       "      <td>NaN</td>\n",
       "    </tr>\n",
       "    <tr>\n",
       "      <th>4</th>\n",
       "      <td>1993.0</td>\n",
       "      <td>5220.0</td>\n",
       "      <td>200000.0</td>\n",
       "      <td>1.6</td>\n",
       "      <td>41.0</td>\n",
       "      <td>165.0</td>\n",
       "      <td>5.0</td>\n",
       "      <td>0.0</td>\n",
       "      <td>0.0</td>\n",
       "      <td>1.0</td>\n",
       "      <td>...</td>\n",
       "      <td>0.0</td>\n",
       "      <td>1.0</td>\n",
       "      <td>0.0</td>\n",
       "      <td>0.0</td>\n",
       "      <td>0.0</td>\n",
       "      <td>0.0</td>\n",
       "      <td>0.0</td>\n",
       "      <td>0.0</td>\n",
       "      <td>0.0</td>\n",
       "      <td>NaN</td>\n",
       "    </tr>\n",
       "  </tbody>\n",
       "</table>\n",
       "<p>5 rows × 24 columns</p>\n",
       "</div>"
      ],
      "text/plain": [
       "   Prod. year    Levy   Mileage  Engine volume  Manufacturer  Model  \\\n",
       "0      2012.0   789.0       0.0            2.0          58.0  521.0   \n",
       "1      2012.0   789.0   26000.0            2.4          23.0  837.0   \n",
       "2      2005.0  1925.0  168000.0            1.5          40.0  885.0   \n",
       "3      2012.0   975.0  143000.0            3.2          59.0  970.0   \n",
       "4      1993.0  5220.0  200000.0            1.6          41.0  165.0   \n",
       "\n",
       "   Fuel type  Leather interior_Yes  Gear box type_Automatic  \\\n",
       "0        1.0                   0.0                      0.0   \n",
       "1        5.0                   1.0                      0.0   \n",
       "2        5.0                   0.0                      1.0   \n",
       "3        5.0                   1.0                      1.0   \n",
       "4        5.0                   0.0                      0.0   \n",
       "\n",
       "   Gear box type_Manual  ...  Category_Goods wagon  Category_Hatchback  \\\n",
       "0                   1.0  ...                   0.0                 1.0   \n",
       "1                   0.0  ...                   0.0                 0.0   \n",
       "2                   0.0  ...                   0.0                 0.0   \n",
       "3                   0.0  ...                   0.0                 0.0   \n",
       "4                   1.0  ...                   0.0                 1.0   \n",
       "\n",
       "   Category_Jeep  Category_Limousine  Category_Microbus  Category_Minivan  \\\n",
       "0            0.0                 0.0                0.0               0.0   \n",
       "1            0.0                 0.0                0.0               0.0   \n",
       "2            0.0                 0.0                0.0               0.0   \n",
       "3            1.0                 0.0                0.0               0.0   \n",
       "4            0.0                 0.0                0.0               0.0   \n",
       "\n",
       "   Category_Pickup  Category_Sedan  Category_Universal  Price  \n",
       "0              0.0             0.0                 0.0    NaN  \n",
       "1              0.0             1.0                 0.0    NaN  \n",
       "2              0.0             1.0                 0.0    NaN  \n",
       "3              0.0             0.0                 0.0    NaN  \n",
       "4              0.0             0.0                 0.0    NaN  \n",
       "\n",
       "[5 rows x 24 columns]"
      ]
     },
     "execution_count": 61,
     "metadata": {},
     "output_type": "execute_result"
    }
   ],
   "source": [
    "cleaned_test_df = clean_and_return_dataframe(df=test_df, has_header=True)\n",
    "cleaned_test_df.head()"
   ]
  },
  {
   "cell_type": "markdown",
   "id": "0bc9d105",
   "metadata": {},
   "source": [
    "Next we need to drop the Price column and remove the headers "
   ]
  },
  {
   "cell_type": "code",
   "execution_count": 62,
   "id": "a69cf662",
   "metadata": {},
   "outputs": [],
   "source": [
    "cleaned_test_df = cleaned_test_df.drop(\"Price\", axis=1)"
   ]
  },
  {
   "cell_type": "code",
   "execution_count": 63,
   "id": "e8531052",
   "metadata": {},
   "outputs": [
    {
     "data": {
      "text/html": [
       "<div>\n",
       "<style scoped>\n",
       "    .dataframe tbody tr th:only-of-type {\n",
       "        vertical-align: middle;\n",
       "    }\n",
       "\n",
       "    .dataframe tbody tr th {\n",
       "        vertical-align: top;\n",
       "    }\n",
       "\n",
       "    .dataframe thead th {\n",
       "        text-align: right;\n",
       "    }\n",
       "</style>\n",
       "<table border=\"1\" class=\"dataframe\">\n",
       "  <thead>\n",
       "    <tr style=\"text-align: right;\">\n",
       "      <th></th>\n",
       "      <th>Prod. year</th>\n",
       "      <th>Levy</th>\n",
       "      <th>Mileage</th>\n",
       "      <th>Engine volume</th>\n",
       "      <th>Manufacturer</th>\n",
       "      <th>Model</th>\n",
       "      <th>Fuel type</th>\n",
       "      <th>Leather interior_Yes</th>\n",
       "      <th>Gear box type_Automatic</th>\n",
       "      <th>Gear box type_Manual</th>\n",
       "      <th>...</th>\n",
       "      <th>Category_Coupe</th>\n",
       "      <th>Category_Goods wagon</th>\n",
       "      <th>Category_Hatchback</th>\n",
       "      <th>Category_Jeep</th>\n",
       "      <th>Category_Limousine</th>\n",
       "      <th>Category_Microbus</th>\n",
       "      <th>Category_Minivan</th>\n",
       "      <th>Category_Pickup</th>\n",
       "      <th>Category_Sedan</th>\n",
       "      <th>Category_Universal</th>\n",
       "    </tr>\n",
       "  </thead>\n",
       "  <tbody>\n",
       "    <tr>\n",
       "      <th>0</th>\n",
       "      <td>2012.0</td>\n",
       "      <td>789.0</td>\n",
       "      <td>0.0</td>\n",
       "      <td>2.0</td>\n",
       "      <td>58.0</td>\n",
       "      <td>521.0</td>\n",
       "      <td>1.0</td>\n",
       "      <td>0.0</td>\n",
       "      <td>0.0</td>\n",
       "      <td>1.0</td>\n",
       "      <td>...</td>\n",
       "      <td>0.0</td>\n",
       "      <td>0.0</td>\n",
       "      <td>1.0</td>\n",
       "      <td>0.0</td>\n",
       "      <td>0.0</td>\n",
       "      <td>0.0</td>\n",
       "      <td>0.0</td>\n",
       "      <td>0.0</td>\n",
       "      <td>0.0</td>\n",
       "      <td>0.0</td>\n",
       "    </tr>\n",
       "    <tr>\n",
       "      <th>1</th>\n",
       "      <td>2012.0</td>\n",
       "      <td>789.0</td>\n",
       "      <td>26000.0</td>\n",
       "      <td>2.4</td>\n",
       "      <td>23.0</td>\n",
       "      <td>837.0</td>\n",
       "      <td>5.0</td>\n",
       "      <td>1.0</td>\n",
       "      <td>0.0</td>\n",
       "      <td>0.0</td>\n",
       "      <td>...</td>\n",
       "      <td>0.0</td>\n",
       "      <td>0.0</td>\n",
       "      <td>0.0</td>\n",
       "      <td>0.0</td>\n",
       "      <td>0.0</td>\n",
       "      <td>0.0</td>\n",
       "      <td>0.0</td>\n",
       "      <td>0.0</td>\n",
       "      <td>1.0</td>\n",
       "      <td>0.0</td>\n",
       "    </tr>\n",
       "  </tbody>\n",
       "</table>\n",
       "<p>2 rows × 23 columns</p>\n",
       "</div>"
      ],
      "text/plain": [
       "   Prod. year   Levy  Mileage  Engine volume  Manufacturer  Model  Fuel type  \\\n",
       "0      2012.0  789.0      0.0            2.0          58.0  521.0        1.0   \n",
       "1      2012.0  789.0  26000.0            2.4          23.0  837.0        5.0   \n",
       "\n",
       "   Leather interior_Yes  Gear box type_Automatic  Gear box type_Manual  ...  \\\n",
       "0                   0.0                      0.0                   1.0  ...   \n",
       "1                   1.0                      0.0                   0.0  ...   \n",
       "\n",
       "   Category_Coupe  Category_Goods wagon  Category_Hatchback  Category_Jeep  \\\n",
       "0             0.0                   0.0                 1.0            0.0   \n",
       "1             0.0                   0.0                 0.0            0.0   \n",
       "\n",
       "   Category_Limousine  Category_Microbus  Category_Minivan  Category_Pickup  \\\n",
       "0                 0.0                0.0               0.0              0.0   \n",
       "1                 0.0                0.0               0.0              0.0   \n",
       "\n",
       "   Category_Sedan  Category_Universal  \n",
       "0             0.0                 0.0  \n",
       "1             1.0                 0.0  \n",
       "\n",
       "[2 rows x 23 columns]"
      ]
     },
     "execution_count": 63,
     "metadata": {},
     "output_type": "execute_result"
    }
   ],
   "source": [
    "cleaned_test_data = cleaned_test_df.iloc[:2]\n",
    "# cleaned_test_data.columns = cleaned_test_data.iloc[0]  # Use the first row as headers\n",
    "# cleaned_test_data = cleaned_test_data[1:]  # Drop the first row since it's now the header\n",
    "cleaned_test_data"
   ]
  },
  {
   "cell_type": "code",
   "execution_count": 71,
   "id": "57c9d626",
   "metadata": {},
   "outputs": [
    {
     "data": {
      "text/html": [
       "<div>\n",
       "<style scoped>\n",
       "    .dataframe tbody tr th:only-of-type {\n",
       "        vertical-align: middle;\n",
       "    }\n",
       "\n",
       "    .dataframe tbody tr th {\n",
       "        vertical-align: top;\n",
       "    }\n",
       "\n",
       "    .dataframe thead th {\n",
       "        text-align: right;\n",
       "    }\n",
       "</style>\n",
       "<table border=\"1\" class=\"dataframe\">\n",
       "  <thead>\n",
       "    <tr style=\"text-align: right;\">\n",
       "      <th></th>\n",
       "      <th>ID</th>\n",
       "      <th>Levy</th>\n",
       "      <th>Manufacturer</th>\n",
       "      <th>Model</th>\n",
       "      <th>Prod. year</th>\n",
       "      <th>Category</th>\n",
       "      <th>Leather interior</th>\n",
       "      <th>Fuel type</th>\n",
       "      <th>Engine volume</th>\n",
       "      <th>Mileage</th>\n",
       "      <th>Cylinders</th>\n",
       "      <th>Gear box type</th>\n",
       "      <th>Drive wheels</th>\n",
       "      <th>Doors</th>\n",
       "      <th>Wheel</th>\n",
       "      <th>Color</th>\n",
       "      <th>Airbags</th>\n",
       "      <th>Price</th>\n",
       "    </tr>\n",
       "  </thead>\n",
       "  <tbody>\n",
       "    <tr>\n",
       "      <th>0</th>\n",
       "      <td>44020629</td>\n",
       "      <td>-</td>\n",
       "      <td>VOLKSWAGEN</td>\n",
       "      <td>Golf</td>\n",
       "      <td>2012</td>\n",
       "      <td>Hatchback</td>\n",
       "      <td>No</td>\n",
       "      <td>Diesel</td>\n",
       "      <td>2.0 Turbo</td>\n",
       "      <td>0 km</td>\n",
       "      <td>4</td>\n",
       "      <td>Manual</td>\n",
       "      <td>Front</td>\n",
       "      <td>02-Mar</td>\n",
       "      <td>Left wheel</td>\n",
       "      <td>Grey</td>\n",
       "      <td>10</td>\n",
       "      <td>NaN</td>\n",
       "    </tr>\n",
       "    <tr>\n",
       "      <th>1</th>\n",
       "      <td>45784798</td>\n",
       "      <td>-</td>\n",
       "      <td>HYUNDAI</td>\n",
       "      <td>Sonata</td>\n",
       "      <td>2012</td>\n",
       "      <td>Sedan</td>\n",
       "      <td>Yes</td>\n",
       "      <td>Petrol</td>\n",
       "      <td>2.4</td>\n",
       "      <td>26000 km</td>\n",
       "      <td>4</td>\n",
       "      <td>Tiptronic</td>\n",
       "      <td>Front</td>\n",
       "      <td>04-May</td>\n",
       "      <td>Left wheel</td>\n",
       "      <td>Grey</td>\n",
       "      <td>10</td>\n",
       "      <td>NaN</td>\n",
       "    </tr>\n",
       "  </tbody>\n",
       "</table>\n",
       "</div>"
      ],
      "text/plain": [
       "         ID Levy Manufacturer   Model  Prod. year   Category Leather interior  \\\n",
       "0  44020629    -   VOLKSWAGEN    Golf        2012  Hatchback               No   \n",
       "1  45784798    -      HYUNDAI  Sonata        2012      Sedan              Yes   \n",
       "\n",
       "  Fuel type Engine volume   Mileage  Cylinders Gear box type Drive wheels  \\\n",
       "0    Diesel     2.0 Turbo      0 km          4        Manual        Front   \n",
       "1    Petrol           2.4  26000 km          4     Tiptronic        Front   \n",
       "\n",
       "    Doors       Wheel Color  Airbags  Price  \n",
       "0  02-Mar  Left wheel  Grey       10    NaN  \n",
       "1  04-May  Left wheel  Grey       10    NaN  "
      ]
     },
     "execution_count": 71,
     "metadata": {},
     "output_type": "execute_result"
    }
   ],
   "source": [
    "test_data"
   ]
  },
  {
   "cell_type": "code",
   "execution_count": 67,
   "id": "566c329c-bc18-40ec-99a2-8c3666b71a1a",
   "metadata": {},
   "outputs": [],
   "source": [
    "from sagemaker.serializers import CSVSerializer"
   ]
  },
  {
   "cell_type": "markdown",
   "id": "ec0f4475-a066-4ef3-a47d-ce116b44893e",
   "metadata": {},
   "source": [
    "**Making predictions**"
   ]
  },
  {
   "cell_type": "code",
   "execution_count": 21,
   "id": "ed1cae70-fa35-4c0b-9818-1616674a2546",
   "metadata": {},
   "outputs": [
    {
     "data": {
      "text/plain": [
       "array([26821.51119488, 17481.25051534])"
      ]
     },
     "execution_count": 21,
     "metadata": {},
     "output_type": "execute_result"
    }
   ],
   "source": [
    "rf_model.predict(test_data)"
   ]
  },
  {
   "cell_type": "code",
   "execution_count": 64,
   "id": "1536ab65-7757-4764-9845-2a2012237911",
   "metadata": {},
   "outputs": [],
   "source": [
    "xgb_predictor.serializer = CSVSerializer()\n",
    "predictions = xgb_predictor.predict(cleaned_test_data).decode('utf-8')"
   ]
  },
  {
   "cell_type": "code",
   "execution_count": 70,
   "id": "ec6fe9cf",
   "metadata": {},
   "outputs": [
    {
     "data": {
      "text/plain": [
       "'2008.5054931640625,2011.808349609375'"
      ]
     },
     "execution_count": 70,
     "metadata": {},
     "output_type": "execute_result"
    }
   ],
   "source": [
    "predictions"
   ]
  },
  {
   "cell_type": "markdown",
   "id": "3cdf4468",
   "metadata": {},
   "source": [
    "## Conclusion"
   ]
  },
  {
   "cell_type": "markdown",
   "id": "82e7679d",
   "metadata": {},
   "source": [
    "There are varying Predictions when using the different models\n",
    "* The xgboost model predicted `$2008.51` and `$2011.80`. \n",
    "* The random forest model predicted `$ 26821.51` and `$ 17481.25`\n"
   ]
  },
  {
   "cell_type": "markdown",
   "id": "6c7d2c65",
   "metadata": {},
   "source": [
    "## Spin Down Resources"
   ]
  },
  {
   "cell_type": "code",
   "execution_count": 72,
   "id": "c65c1727",
   "metadata": {},
   "outputs": [
    {
     "name": "stderr",
     "output_type": "stream",
     "text": [
      "INFO:sagemaker:Deleting endpoint configuration with name: xgboost-2024-03-04-04-13-05-983\n",
      "INFO:sagemaker:Deleting endpoint with name: xgboost-2024-03-04-04-13-05-983\n"
     ]
    }
   ],
   "source": [
    "xgb_predictor.delete_endpoint()"
   ]
  }
 ],
 "metadata": {
  "kernelspec": {
   "display_name": "conda_python3",
   "language": "python",
   "name": "conda_python3"
  },
  "language_info": {
   "codemirror_mode": {
    "name": "ipython",
    "version": 3
   },
   "file_extension": ".py",
   "mimetype": "text/x-python",
   "name": "python",
   "nbconvert_exporter": "python",
   "pygments_lexer": "ipython3",
   "version": "3.10.13"
  }
 },
 "nbformat": 4,
 "nbformat_minor": 5
}
