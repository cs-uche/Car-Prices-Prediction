{
 "cells": [
  {
   "cell_type": "markdown",
   "metadata": {},
   "source": [
    "## Introduction\n",
    "\n",
    "In this notebook, we will explore the essential steps for deploying machine learning models using MLOps (Machine Learning Operations) practices. MLOps involves the combination of machine learning (ML) and operations to streamline the end-to-end ML lifecycle. One crucial aspect of this process is the creation of a model registry—a centralized repository to store and manage machine learning models."
   ]
  },
  {
   "cell_type": "code",
   "execution_count": 2,
   "metadata": {},
   "outputs": [],
   "source": [
    "from datetime import datetime\n",
    "import pandas as pd\n",
    "import os"
   ]
  },
  {
   "cell_type": "markdown",
   "metadata": {},
   "source": [
    "https://chat.openai.com/c/bd013cfa-28e5-4402-b19f-8094c2c034a9#:~:text=ChatGPT-,To,-clean%20and%20save\n"
   ]
  },
  {
   "cell_type": "code",
   "execution_count": null,
   "metadata": {},
   "outputs": [],
   "source": [
    "# Load and process raw data\n",
    "train_data_dir = os.path.join('.','data','raw','train.csv')\n",
    "raw_train_data = pd.read_csv(train_data_dir)\n",
    "\n",
    "# ... Perform data cleaning using your pipeline ...\n",
    "\n",
    "# Save cleaned data with timestamp\n",
    "data_dir = os.path.join('.','data','cleaned')\n",
    "os.makedirs(data_dir, exist_ok=True)\n",
    "\n",
    "version = datetime.now().strftime(\"%Y%m%d\")\n",
    "cleaned_train_filename = os.join({data_dir}, f'train_v{version}.csv')\n",
    "cleaned_val_filename = os.join({data_dir}, f'val_v{version}.csv')\n",
    "\n",
    "cleaned_train_data.to_csv(cleaned_train_filename, index=False)\n",
    "cleaned_val_data.to_csv(cleaned_val_filename, index=False)"
   ]
  },
  {
   "cell_type": "code",
   "execution_count": null,
   "metadata": {},
   "outputs": [],
   "source": []
  },
  {
   "cell_type": "code",
   "execution_count": null,
   "metadata": {},
   "outputs": [],
   "source": []
  }
 ],
 "metadata": {
  "kernelspec": {
   "display_name": "Python 3 (ipykernel)",
   "language": "python",
   "name": "python3"
  },
  "language_info": {
   "codemirror_mode": {
    "name": "ipython",
    "version": 3
   },
   "file_extension": ".py",
   "mimetype": "text/x-python",
   "name": "python",
   "nbconvert_exporter": "python",
   "pygments_lexer": "ipython3",
   "version": "3.9.16"
  }
 },
 "nbformat": 4,
 "nbformat_minor": 4
}
